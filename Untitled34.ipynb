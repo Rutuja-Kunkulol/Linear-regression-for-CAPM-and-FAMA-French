{
  "nbformat": 4,
  "nbformat_minor": 0,
  "metadata": {
    "colab": {
      "provenance": []
    },
    "kernelspec": {
      "name": "python3",
      "display_name": "Python 3"
    },
    "language_info": {
      "name": "python"
    }
  },
  "cells": [
    {
      "cell_type": "code",
      "execution_count": 1,
      "metadata": {
        "colab": {
          "base_uri": "https://localhost:8080/"
        },
        "id": "hh4umPDClCoL",
        "outputId": "132f9c55-7d3b-4cda-f209-29ebe61755f8"
      },
      "outputs": [
        {
          "output_type": "stream",
          "name": "stdout",
          "text": [
            "Requirement already satisfied: pandas in /usr/local/lib/python3.10/dist-packages (1.5.3)\n",
            "Requirement already satisfied: statsmodels in /usr/local/lib/python3.10/dist-packages (0.14.0)\n",
            "Requirement already satisfied: scipy in /usr/local/lib/python3.10/dist-packages (1.11.3)\n",
            "Requirement already satisfied: python-dateutil>=2.8.1 in /usr/local/lib/python3.10/dist-packages (from pandas) (2.8.2)\n",
            "Requirement already satisfied: pytz>=2020.1 in /usr/local/lib/python3.10/dist-packages (from pandas) (2023.3.post1)\n",
            "Requirement already satisfied: numpy>=1.21.0 in /usr/local/lib/python3.10/dist-packages (from pandas) (1.23.5)\n",
            "Requirement already satisfied: patsy>=0.5.2 in /usr/local/lib/python3.10/dist-packages (from statsmodels) (0.5.3)\n",
            "Requirement already satisfied: packaging>=21.3 in /usr/local/lib/python3.10/dist-packages (from statsmodels) (23.2)\n",
            "Requirement already satisfied: six in /usr/local/lib/python3.10/dist-packages (from patsy>=0.5.2->statsmodels) (1.16.0)\n"
          ]
        }
      ],
      "source": [
        "pip install pandas statsmodels scipy\n"
      ]
    },
    {
      "cell_type": "code",
      "source": [
        "import pandas as pd\n",
        "import statsmodels.api as sm\n",
        "from scipy import stats\n"
      ],
      "metadata": {
        "id": "La3jVvkglE6f"
      },
      "execution_count": 2,
      "outputs": []
    },
    {
      "cell_type": "code",
      "source": [
        "# Load the data\n",
        "data = pd.read_csv('/content/Data.csv')\n"
      ],
      "metadata": {
        "id": "FJLdr-BQlMxM"
      },
      "execution_count": 3,
      "outputs": []
    },
    {
      "cell_type": "code",
      "source": [
        "# Calculating excess returns\n",
        "data['rm'] = data['Market'] - data['Tbills']\n",
        "data['r_FORD'] = data['RETURNS_FORD'] - data['Tbills']\n",
        "data['r_ATRC'] = data['RETURNS_ATRC'] - data['Tbills']\n"
      ],
      "metadata": {
        "id": "XEPdYpJ2lVSA"
      },
      "execution_count": 4,
      "outputs": []
    },
    {
      "cell_type": "code",
      "source": [
        "# CAPM Analysis for FORD\n",
        "X = sm.add_constant(data['rm'])\n",
        "model = sm.OLS(data['r_FORD'], X).fit()\n",
        "print(model.summary())"
      ],
      "metadata": {
        "colab": {
          "base_uri": "https://localhost:8080/"
        },
        "id": "MgzMLeVMlab7",
        "outputId": "717ffb30-0a98-4f7f-ae5f-14e5d7f903a0"
      },
      "execution_count": 5,
      "outputs": [
        {
          "output_type": "stream",
          "name": "stdout",
          "text": [
            "                            OLS Regression Results                            \n",
            "==============================================================================\n",
            "Dep. Variable:                 r_FORD   R-squared:                       0.993\n",
            "Model:                            OLS   Adj. R-squared:                  0.993\n",
            "Method:                 Least Squares   F-statistic:                     8330.\n",
            "Date:                Mon, 27 Nov 2023   Prob (F-statistic):           2.36e-64\n",
            "Time:                        16:21:11   Log-Likelihood:                 54.503\n",
            "No. Observations:                  60   AIC:                            -105.0\n",
            "Df Residuals:                      58   BIC:                            -100.8\n",
            "Df Model:                           1                                         \n",
            "Covariance Type:            nonrobust                                         \n",
            "==============================================================================\n",
            "                 coef    std err          t      P>|t|      [0.025      0.975]\n",
            "------------------------------------------------------------------------------\n",
            "const          0.0190      0.019      0.996      0.324      -0.019       0.057\n",
            "rm             1.0132      0.011     91.271      0.000       0.991       1.035\n",
            "==============================================================================\n",
            "Omnibus:                        2.786   Durbin-Watson:                   1.858\n",
            "Prob(Omnibus):                  0.248   Jarque-Bera (JB):                2.606\n",
            "Skew:                           0.500   Prob(JB):                        0.272\n",
            "Kurtosis:                       2.796   Cond. No.                         3.12\n",
            "==============================================================================\n",
            "\n",
            "Notes:\n",
            "[1] Standard Errors assume that the covariance matrix of the errors is correctly specified.\n"
          ]
        }
      ]
    },
    {
      "cell_type": "code",
      "source": [
        "# CAPM Analysis for ATRC\n",
        "model = sm.OLS(data['r_ATRC'], X).fit()\n",
        "print(model.summary())"
      ],
      "metadata": {
        "colab": {
          "base_uri": "https://localhost:8080/"
        },
        "id": "HjdNPZZ-lhIT",
        "outputId": "8791858d-1471-41f2-e504-c043922a03d9"
      },
      "execution_count": 6,
      "outputs": [
        {
          "output_type": "stream",
          "name": "stdout",
          "text": [
            "                            OLS Regression Results                            \n",
            "==============================================================================\n",
            "Dep. Variable:                 r_ATRC   R-squared:                       0.992\n",
            "Model:                            OLS   Adj. R-squared:                  0.992\n",
            "Method:                 Least Squares   F-statistic:                     7632.\n",
            "Date:                Mon, 27 Nov 2023   Prob (F-statistic):           2.93e-63\n",
            "Time:                        16:21:39   Log-Likelihood:                 52.791\n",
            "No. Observations:                  60   AIC:                            -101.6\n",
            "Df Residuals:                      58   BIC:                            -97.39\n",
            "Df Model:                           1                                         \n",
            "Covariance Type:            nonrobust                                         \n",
            "==============================================================================\n",
            "                 coef    std err          t      P>|t|      [0.025      0.975]\n",
            "------------------------------------------------------------------------------\n",
            "const          0.0118      0.020      0.599      0.551      -0.028       0.051\n",
            "rm             0.9979      0.011     87.362      0.000       0.975       1.021\n",
            "==============================================================================\n",
            "Omnibus:                        0.395   Durbin-Watson:                   1.649\n",
            "Prob(Omnibus):                  0.821   Jarque-Bera (JB):                0.551\n",
            "Skew:                          -0.152   Prob(JB):                        0.759\n",
            "Kurtosis:                       2.642   Cond. No.                         3.12\n",
            "==============================================================================\n",
            "\n",
            "Notes:\n",
            "[1] Standard Errors assume that the covariance matrix of the errors is correctly specified.\n"
          ]
        }
      ]
    },
    {
      "cell_type": "code",
      "source": [
        "# Confidence Intervals for Ford and ATRC\n",
        "ci_ford = model.conf_int(0.05).loc['rm']\n",
        "ci_atrc = model.conf_int(0.05).loc['rm']\n",
        "print(f\"Confidence Interval for Ford's beta: {ci_ford}\")\n",
        "print(f\"Confidence Interval for ATRC's beta: {ci_atrc}\")"
      ],
      "metadata": {
        "colab": {
          "base_uri": "https://localhost:8080/"
        },
        "id": "YRyOY3RClmtJ",
        "outputId": "2d8547e1-e16f-4751-c0c9-e93cdd7c4a22"
      },
      "execution_count": 8,
      "outputs": [
        {
          "output_type": "stream",
          "name": "stdout",
          "text": [
            "Confidence Interval for Ford's beta: 0    0.975028\n",
            "1    1.020757\n",
            "Name: rm, dtype: float64\n",
            "Confidence Interval for ATRC's beta: 0    0.975028\n",
            "1    1.020757\n",
            "Name: rm, dtype: float64\n"
          ]
        }
      ]
    },
    {
      "cell_type": "code",
      "source": [
        "# Fama French Multifactor Model\n",
        "X = sm.add_constant(data[['rm', 'HML', 'SMB']])"
      ],
      "metadata": {
        "id": "8t0nss6Glt75"
      },
      "execution_count": 9,
      "outputs": []
    },
    {
      "cell_type": "code",
      "source": [
        "# For FORD\n",
        "model = sm.OLS(data['r_FORD'], X).fit()\n",
        "print(model.summary())\n",
        "\n",
        "# For ATRC\n",
        "model = sm.OLS(data['r_ATRC'], X).fit()\n",
        "print(model.summary())"
      ],
      "metadata": {
        "colab": {
          "base_uri": "https://localhost:8080/"
        },
        "id": "0-5wXGQalwhW",
        "outputId": "6d7f3cf8-64dd-4530-b339-ef414e184ec1"
      },
      "execution_count": 10,
      "outputs": [
        {
          "output_type": "stream",
          "name": "stdout",
          "text": [
            "                            OLS Regression Results                            \n",
            "==============================================================================\n",
            "Dep. Variable:                 r_FORD   R-squared:                       0.994\n",
            "Model:                            OLS   Adj. R-squared:                  0.994\n",
            "Method:                 Least Squares   F-statistic:                     3214.\n",
            "Date:                Mon, 27 Nov 2023   Prob (F-statistic):           1.27e-62\n",
            "Time:                        16:22:43   Log-Likelihood:                 59.905\n",
            "No. Observations:                  60   AIC:                            -111.8\n",
            "Df Residuals:                      56   BIC:                            -103.4\n",
            "Df Model:                           3                                         \n",
            "Covariance Type:            nonrobust                                         \n",
            "==============================================================================\n",
            "                 coef    std err          t      P>|t|      [0.025      0.975]\n",
            "------------------------------------------------------------------------------\n",
            "const          0.0198      0.018      1.114      0.270      -0.016       0.055\n",
            "rm             1.0111      0.010     97.735      0.000       0.990       1.032\n",
            "HML            0.0069      0.003      2.464      0.017       0.001       0.012\n",
            "SMB            0.0103      0.004      2.331      0.023       0.001       0.019\n",
            "==============================================================================\n",
            "Omnibus:                        4.225   Durbin-Watson:                   1.863\n",
            "Prob(Omnibus):                  0.121   Jarque-Bera (JB):                3.542\n",
            "Skew:                           0.588   Prob(JB):                        0.170\n",
            "Kurtosis:                       3.178   Cond. No.                         7.04\n",
            "==============================================================================\n",
            "\n",
            "Notes:\n",
            "[1] Standard Errors assume that the covariance matrix of the errors is correctly specified.\n",
            "                            OLS Regression Results                            \n",
            "==============================================================================\n",
            "Dep. Variable:                 r_ATRC   R-squared:                       0.994\n",
            "Model:                            OLS   Adj. R-squared:                  0.993\n",
            "Method:                 Least Squares   F-statistic:                     2998.\n",
            "Date:                Mon, 27 Nov 2023   Prob (F-statistic):           8.79e-62\n",
            "Time:                        16:22:43   Log-Likelihood:                 58.727\n",
            "No. Observations:                  60   AIC:                            -109.5\n",
            "Df Residuals:                      56   BIC:                            -101.1\n",
            "Df Model:                           3                                         \n",
            "Covariance Type:            nonrobust                                         \n",
            "==============================================================================\n",
            "                 coef    std err          t      P>|t|      [0.025      0.975]\n",
            "------------------------------------------------------------------------------\n",
            "const          0.0143      0.018      0.789      0.434      -0.022       0.051\n",
            "rm             0.9971      0.011     94.512      0.000       0.976       1.018\n",
            "HML           -0.0049      0.003     -1.707      0.093      -0.011       0.001\n",
            "SMB            0.0135      0.005      2.983      0.004       0.004       0.022\n",
            "==============================================================================\n",
            "Omnibus:                        3.354   Durbin-Watson:                   1.603\n",
            "Prob(Omnibus):                  0.187   Jarque-Bera (JB):                2.466\n",
            "Skew:                          -0.339   Prob(JB):                        0.291\n",
            "Kurtosis:                       2.275   Cond. No.                         7.04\n",
            "==============================================================================\n",
            "\n",
            "Notes:\n",
            "[1] Standard Errors assume that the covariance matrix of the errors is correctly specified.\n"
          ]
        }
      ]
    }
  ]
}